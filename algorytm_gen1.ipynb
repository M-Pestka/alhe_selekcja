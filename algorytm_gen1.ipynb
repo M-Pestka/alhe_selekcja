{
 "cells": [
  {
   "cell_type": "code",
   "execution_count": 2,
   "metadata": {},
   "outputs": [],
   "source": [
    "from src.data_reader import Data_reader\n",
    "from src.feature_provider import Feature_provider\n",
    "from src.data_reader import get_labels"
   ]
  },
  {
   "cell_type": "code",
   "execution_count": 3,
   "metadata": {},
   "outputs": [],
   "source": [
    "import pandas as pd\n",
    "import numpy as np\n",
    "import matplotlib.pyplot as plt\n",
    "import sklearn\n",
    "import scipy\n",
    "import time"
   ]
  },
  {
   "cell_type": "code",
   "execution_count": 4,
   "metadata": {},
   "outputs": [],
   "source": [
    "from sklearn.linear_model import LogisticRegression\n",
    "from sklearn.metrics import accuracy_score"
   ]
  },
  {
   "cell_type": "code",
   "execution_count": 191,
   "metadata": {},
   "outputs": [],
   "source": [
    "conf = {'file_path': 'data/dorothea_train.data'}\n",
    "reader = Data_reader(conf)\n",
    "feature_provider = Feature_provider(reader.get_matrix())\n",
    "\n",
    "\n",
    "conf = {'file_path': 'data/dorothea_valid.data'}\n",
    "reader = Data_reader(conf)\n",
    "valid_feature_provider = Feature_provider(reader.get_matrix())\n",
    "\n",
    "\n",
    "\n",
    "y_train = get_labels('data/dorothea_train.labels')\n",
    "y_val = get_labels('data/dorothea_valid.labels')\n",
    "\n",
    "def transform_labels(x):\n",
    "    return [int((a+1)/2) for a in x]\n",
    "\n",
    "y_train = transform_labels(y_train)\n",
    "y_val = transform_labels(y_val)"
   ]
  },
  {
   "cell_type": "code",
   "execution_count": 196,
   "metadata": {
    "scrolled": false
   },
   "outputs": [],
   "source": [
    "licznosci = feature_provider.data.tocsc().sum(axis = 2)\n",
    "\n",
    "indexy = np.squeeze(np.argwhere(np.squeeze(np.array(licznosci)) > 30.)).tolist()\n",
    "\n",
    "\n",
    "feature_provider = Feature_provider(feature_provider.data[:, indexy])\n",
    "valid_feature_provider = Feature_provider(valid_feature_provider.data[:, indexy])"
   ]
  },
  {
   "cell_type": "code",
   "execution_count": 197,
   "metadata": {},
   "outputs": [],
   "source": [
    "num_features = feature_provider.data.shape[1]"
   ]
  },
  {
   "cell_type": "code",
   "execution_count": 198,
   "metadata": {},
   "outputs": [],
   "source": [
    "def eval_feature_set(features):\n",
    "    X_train = feature_provider.get_slice(features, sparse_output = True)\n",
    "    \n",
    "    X_val = valid_feature_provider.get_slice(features, sparse_output = True)\n",
    "    \n",
    "    model = LogisticRegression()\n",
    "    model.fit(X_train, y_train)\n",
    "    \n",
    "    return accuracy_score(y_val, model.predict(X_val))"
   ]
  },
  {
   "cell_type": "code",
   "execution_count": 199,
   "metadata": {},
   "outputs": [
    {
     "name": "stdout",
     "output_type": "stream",
     "text": [
      "1.621340036392212\n"
     ]
    }
   ],
   "source": [
    "beg = time.time()\n",
    "for i in range(100):\n",
    "    eval_feature_set(list(range(1000)))\n",
    "print(time.time() - beg)"
   ]
  },
  {
   "cell_type": "code",
   "execution_count": 200,
   "metadata": {},
   "outputs": [],
   "source": [
    "mat = reader.get_matrix()"
   ]
  },
  {
   "cell_type": "code",
   "execution_count": null,
   "metadata": {},
   "outputs": [],
   "source": []
  },
  {
   "cell_type": "code",
   "execution_count": 201,
   "metadata": {},
   "outputs": [],
   "source": [
    "def mate(x, y):\n",
    "    shuffled = x.arr.copy()\n",
    "    np.random.shuffle(shuffled)\n",
    "    mask = np.where(np.random.random(size = x.arr.shape) > .5, 1, 0)\n",
    "    \n",
    "    new = mask*shuffled + (1-mask)*y.arr\n",
    "    new2 = (1-mask)*shuffled + mask*y.arr\n",
    "    return ind(new), ind(new2)\n",
    "    "
   ]
  },
  {
   "cell_type": "code",
   "execution_count": 202,
   "metadata": {},
   "outputs": [],
   "source": [
    "\n",
    "def mutate(x :np.ndarray, mut_proba = 0.1):\n",
    "    new_features = np.random.randint(num_features, size = x.arr.shape)\n",
    "    \n",
    "    mask = np.where(np.random.random(size = x.arr.shape) > mut_proba, 1, 0)\n",
    "    return ind(mask*x.arr + (1-mask)*new_features)"
   ]
  },
  {
   "cell_type": "code",
   "execution_count": 203,
   "metadata": {},
   "outputs": [],
   "source": [
    "class ind:\n",
    "    def __init__(self, arr):\n",
    "        self.arr = arr\n",
    "        self.fitness = 0\n",
    "        \n",
    "    def __mul__(self, other):\n",
    "        self.arr *= other\n",
    "        return self\n",
    "    \n",
    "    def __rmul__(self, other):\n",
    "        self.arr *=other\n",
    "        return self"
   ]
  },
  {
   "cell_type": "code",
   "execution_count": null,
   "metadata": {},
   "outputs": [],
   "source": []
  },
  {
   "cell_type": "code",
   "execution_count": 204,
   "metadata": {},
   "outputs": [],
   "source": [
    "def create_population(population_size, individual_size):\n",
    "    pop = []\n",
    "    for i in range(population_size):\n",
    "        g = np.random.randint(num_features, size = individual_size)\n",
    "        pop.append(ind(g))\n",
    "    return pop"
   ]
  },
  {
   "cell_type": "code",
   "execution_count": 205,
   "metadata": {},
   "outputs": [],
   "source": [
    "def select_k_best(population, k):\n",
    "    assert(len(population) >= k)\n",
    "    return sorted(population, key = lambda x: x.fitness, reverse = True)[:k]"
   ]
  },
  {
   "cell_type": "code",
   "execution_count": 206,
   "metadata": {},
   "outputs": [],
   "source": [
    "def evaluate_pop(pop, eval_func):\n",
    "    for i in pop:\n",
    "        i.fitness = eval_func(i.arr)"
   ]
  },
  {
   "cell_type": "code",
   "execution_count": 207,
   "metadata": {},
   "outputs": [],
   "source": [
    "def mate_pop(pop):\n",
    "    # uwaga! shuffluje nam liste\n",
    "    np.random.shuffle(pop)\n",
    "    new_pop = []\n",
    "    for i in range(len(pop)//2):\n",
    "        n1, n2 = mate(pop[i], pop[-1])\n",
    "        new_pop.append(n1)\n",
    "        new_pop.append(n2)\n",
    "        \n",
    "    if(len(pop) % 2 == 0):\n",
    "        new_pop.append(pop[len(pop)//2 + 1])\n",
    "    \n",
    "    return new_pop\n",
    "        "
   ]
  },
  {
   "cell_type": "code",
   "execution_count": 208,
   "metadata": {},
   "outputs": [],
   "source": [
    "def mutate_pop(pop, proba):\n",
    "    mask = np.where(np.random.random(size = len(pop)) > proba, 0, 1)\n",
    "    for i in np.squeeze(np.argwhere(mask == 1)).tolist():\n",
    "        pop[i] = mutate(pop[i])"
   ]
  },
  {
   "cell_type": "code",
   "execution_count": null,
   "metadata": {},
   "outputs": [],
   "source": []
  },
  {
   "cell_type": "code",
   "execution_count": 215,
   "metadata": {},
   "outputs": [
    {
     "data": {
      "text/plain": [
       "781.3497290611267"
      ]
     },
     "execution_count": 215,
     "metadata": {},
     "output_type": "execute_result"
    }
   ],
   "source": [
    "beg = time.time()\n",
    "p = create_population(1000, 70)\n",
    "\n",
    "for i in range(100):\n",
    "    evaluate_pop(p, eval_feature_set)\n",
    "    best_half = select_k_best(p, len(p)//2)\n",
    "    p = best_half + mate_pop(best_half)\n",
    "    mutate_pop(p, 0.15)\n",
    "    \n",
    "evaluate_pop(p, eval_feature_set)\n",
    "time.time() - beg"
   ]
  },
  {
   "cell_type": "code",
   "execution_count": 216,
   "metadata": {},
   "outputs": [],
   "source": [
    "evaluate_pop(p, eval_feature_set)"
   ]
  },
  {
   "cell_type": "code",
   "execution_count": 217,
   "metadata": {
    "scrolled": true
   },
   "outputs": [
    {
     "data": {
      "text/plain": [
       "[0.96,\n",
       " 0.96,\n",
       " 0.96,\n",
       " 0.96,\n",
       " 0.96,\n",
       " 0.96,\n",
       " 0.96,\n",
       " 0.96,\n",
       " 0.96,\n",
       " 0.96,\n",
       " 0.96,\n",
       " 0.96,\n",
       " 0.96,\n",
       " 0.96,\n",
       " 0.96,\n",
       " 0.96,\n",
       " 0.96,\n",
       " 0.96,\n",
       " 0.96,\n",
       " 0.96,\n",
       " 0.96,\n",
       " 0.96,\n",
       " 0.96,\n",
       " 0.96,\n",
       " 0.96,\n",
       " 0.96,\n",
       " 0.96,\n",
       " 0.96,\n",
       " 0.96,\n",
       " 0.96,\n",
       " 0.96,\n",
       " 0.96,\n",
       " 0.96,\n",
       " 0.96,\n",
       " 0.96,\n",
       " 0.96,\n",
       " 0.96,\n",
       " 0.96,\n",
       " 0.96,\n",
       " 0.96,\n",
       " 0.96,\n",
       " 0.96,\n",
       " 0.96,\n",
       " 0.96,\n",
       " 0.96,\n",
       " 0.96,\n",
       " 0.96,\n",
       " 0.96,\n",
       " 0.96,\n",
       " 0.96,\n",
       " 0.96,\n",
       " 0.96,\n",
       " 0.96,\n",
       " 0.96,\n",
       " 0.96,\n",
       " 0.96,\n",
       " 0.96,\n",
       " 0.96,\n",
       " 0.96,\n",
       " 0.96,\n",
       " 0.96,\n",
       " 0.96,\n",
       " 0.96,\n",
       " 0.96,\n",
       " 0.96,\n",
       " 0.96,\n",
       " 0.96,\n",
       " 0.96,\n",
       " 0.96,\n",
       " 0.96,\n",
       " 0.96,\n",
       " 0.96,\n",
       " 0.96,\n",
       " 0.96,\n",
       " 0.96,\n",
       " 0.96,\n",
       " 0.96,\n",
       " 0.96,\n",
       " 0.96,\n",
       " 0.96,\n",
       " 0.96,\n",
       " 0.96,\n",
       " 0.96,\n",
       " 0.96,\n",
       " 0.96,\n",
       " 0.96,\n",
       " 0.96,\n",
       " 0.96,\n",
       " 0.96,\n",
       " 0.96,\n",
       " 0.96,\n",
       " 0.96,\n",
       " 0.96,\n",
       " 0.96,\n",
       " 0.96,\n",
       " 0.96,\n",
       " 0.96,\n",
       " 0.96,\n",
       " 0.96,\n",
       " 0.96]"
      ]
     },
     "execution_count": 217,
     "metadata": {},
     "output_type": "execute_result"
    }
   ],
   "source": [
    "[i.fitness for i in select_k_best(p, 100)]"
   ]
  },
  {
   "cell_type": "code",
   "execution_count": 218,
   "metadata": {},
   "outputs": [],
   "source": [
    "best10 = select_k_best(p, 10)"
   ]
  },
  {
   "cell_type": "code",
   "execution_count": 220,
   "metadata": {},
   "outputs": [
    {
     "data": {
      "text/plain": [
       "{23, 57, 156, 376, 471, 570, 753, 844, 875, 1179, 1277, 1279, 1536, 1731, 2098}"
      ]
     },
     "execution_count": 220,
     "metadata": {},
     "output_type": "execute_result"
    }
   ],
   "source": [
    "set(best10[0].arr) & set(best10[1].arr)"
   ]
  },
  {
   "cell_type": "code",
   "execution_count": 222,
   "metadata": {},
   "outputs": [],
   "source": [
    "def get_importances(pop):\n",
    "    # powiedzmy że zmienna globalna\n",
    "    n = num_features\n",
    "    \n",
    "    arr = np.zeros(n)\n",
    "    \n",
    "    for i in pop:\n",
    "        arr[i.arr] += i.fitness\n",
    "        \n",
    "    return arr"
   ]
  },
  {
   "cell_type": "code",
   "execution_count": 235,
   "metadata": {},
   "outputs": [],
   "source": [
    "importances = get_importances(p)\n",
    "sorted_indeces = sorted(list(range(len(importances))),key = lambda x: importances[x], reverse = True)"
   ]
  },
  {
   "cell_type": "code",
   "execution_count": 255,
   "metadata": {},
   "outputs": [
    {
     "name": "stdout",
     "output_type": "stream",
     "text": [
      "1 0.9485714285714286\n",
      "2 0.9485714285714286\n",
      "3 0.9514285714285714\n",
      "4 0.9542857142857143\n",
      "5 0.9542857142857143\n",
      "6 0.9542857142857143\n",
      "7 0.9571428571428572\n",
      "8 0.9571428571428572\n",
      "9 0.9571428571428572\n",
      "10 0.96\n",
      "11 0.96\n",
      "12 0.96\n",
      "13 0.96\n",
      "14 0.96\n",
      "15 0.96\n",
      "16 0.96\n",
      "17 0.96\n",
      "18 0.96\n",
      "19 0.96\n",
      "20 0.96\n",
      "21 0.96\n",
      "22 0.96\n",
      "23 0.96\n",
      "24 0.96\n",
      "25 0.96\n",
      "26 0.96\n",
      "27 0.96\n",
      "28 0.96\n",
      "29 0.96\n",
      "30 0.96\n"
     ]
    }
   ],
   "source": [
    "for i in range(30):\n",
    "    print(i+1, eval_feature_set(sorted_indeces[:i+1]))"
   ]
  },
  {
   "cell_type": "code",
   "execution_count": 257,
   "metadata": {},
   "outputs": [
    {
     "data": {
      "text/plain": [
       "0.96"
      ]
     },
     "execution_count": 257,
     "metadata": {},
     "output_type": "execute_result"
    }
   ],
   "source": [
    "eval_feature_set(sorted_indeces[:10])"
   ]
  },
  {
   "cell_type": "code",
   "execution_count": 237,
   "metadata": {},
   "outputs": [],
   "source": [
    "from sklearn.metrics import confusion_matrix"
   ]
  },
  {
   "cell_type": "code",
   "execution_count": 284,
   "metadata": {},
   "outputs": [
    {
     "data": {
      "text/plain": [
       "(0.93625, 0.96)"
      ]
     },
     "execution_count": 284,
     "metadata": {},
     "output_type": "execute_result"
    }
   ],
   "source": [
    "clf = LogisticRegression()\n",
    "clf.fit(feature_provider.get_slice(sorted_indeces[:10]), y_train)\n",
    "\n",
    "accuracy_score(y_true=y_train, y_pred=clf.predict(feature_provider.get_slice(sorted_indeces[:10]))),\\\n",
    "accuracy_score(y_true=y_val, y_pred=clf.predict(valid_feature_provider.get_slice(sorted_indeces[:10])))"
   ]
  },
  {
   "cell_type": "code",
   "execution_count": null,
   "metadata": {},
   "outputs": [],
   "source": []
  },
  {
   "cell_type": "code",
   "execution_count": null,
   "metadata": {},
   "outputs": [],
   "source": []
  },
  {
   "cell_type": "code",
   "execution_count": null,
   "metadata": {},
   "outputs": [],
   "source": []
  }
 ],
 "metadata": {
  "kernelspec": {
   "display_name": "Python 3",
   "language": "python",
   "name": "python3"
  },
  "language_info": {
   "codemirror_mode": {
    "name": "ipython",
    "version": 3
   },
   "file_extension": ".py",
   "mimetype": "text/x-python",
   "name": "python",
   "nbconvert_exporter": "python",
   "pygments_lexer": "ipython3",
   "version": "3.7.5"
  }
 },
 "nbformat": 4,
 "nbformat_minor": 4
}
