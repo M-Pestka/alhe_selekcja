{
 "cells": [
  {
   "cell_type": "code",
   "execution_count": 1,
   "metadata": {},
   "outputs": [],
   "source": [
    "import pandas as pd\n",
    "import numpy as np\n",
    "import matplotlib.pyplot as plt\n",
    "import sklearn\n",
    "import scipy"
   ]
  },
  {
   "cell_type": "code",
   "execution_count": 2,
   "metadata": {},
   "outputs": [],
   "source": [
    "from src.data_reader import Data_reader\n",
    "from src.feature_provider import Feature_provider"
   ]
  },
  {
   "cell_type": "code",
   "execution_count": 3,
   "metadata": {},
   "outputs": [
    {
     "name": "stdout",
     "output_type": "stream",
     "text": [
      "Dataset.pdf\t    dorothea_train.data    dorothea_valid.labels\r\n",
      "dorothea.param\t    dorothea_train.labels\r\n",
      "dorothea_test.data  dorothea_valid.data\r\n"
     ]
    }
   ],
   "source": [
    "!ls data/"
   ]
  },
  {
   "cell_type": "code",
   "execution_count": 4,
   "metadata": {},
   "outputs": [],
   "source": [
    "conf = {'file_path': 'data/dorothea_train.data'}\n",
    "reader = Data_reader(conf)\n",
    "feature_provider = Feature_provider(reader.get_matrix())"
   ]
  },
  {
   "cell_type": "code",
   "execution_count": 5,
   "metadata": {},
   "outputs": [
    {
     "data": {
      "text/plain": [
       "array([[False, False, False, False],\n",
       "       [False, False, False, False],\n",
       "       [False, False, False, False],\n",
       "       ...,\n",
       "       [False, False, False, False],\n",
       "       [False, False, False, False],\n",
       "       [False, False, False, False]])"
      ]
     },
     "execution_count": 5,
     "metadata": {},
     "output_type": "execute_result"
    }
   ],
   "source": [
    "feature_provider.get_slice([1, 2 ,3000, 5 ])"
   ]
  },
  {
   "cell_type": "code",
   "execution_count": 6,
   "metadata": {},
   "outputs": [],
   "source": [
    "data = reader.get_matrix()"
   ]
  },
  {
   "cell_type": "code",
   "execution_count": 7,
   "metadata": {},
   "outputs": [],
   "source": [
    "asdf = data.tocsc().sum(axis = 2)"
   ]
  },
  {
   "cell_type": "code",
   "execution_count": 7,
   "metadata": {},
   "outputs": [
    {
     "data": {
      "image/png": "[encoded data removed]",
      "text/plain": [
       "<Figure size 720x360 with 1 Axes>"
      ]
     },
     "metadata": {
      "needs_background": "light"
     },
     "output_type": "display_data"
    }
   ],
   "source": [
    "plt.figure(figsize = (10, 5))\n",
    "plt.title('Histogram liczby niezerowych wartości')\n",
    "_ = plt.hist(asdf.tolist()[0], bins = 200)"
   ]
  },
  {
   "cell_type": "code",
   "execution_count": 11,
   "metadata": {},
   "outputs": [],
   "source": [
    "arr = np.array([a for a in asdf.tolist()[0] if a > 30])"
   ]
  },
  {
   "cell_type": "code",
   "execution_count": 13,
   "metadata": {},
   "outputs": [
    {
     "data": {
      "image/png": "[encoded data removed]",
      "text/plain": [
       "<Figure size 720x360 with 1 Axes>"
      ]
     },
     "metadata": {
      "needs_background": "light"
     },
     "output_type": "display_data"
    }
   ],
   "source": [
    "plt.figure(figsize = (10, 5))\n",
    "plt.title('zbliżenie histogramu liczby niezerowych wartości')\n",
    "_ = plt.hist(arr, bins = 20)"
   ]
  },
  {
   "cell_type": "code",
   "execution_count": 15,
   "metadata": {},
   "outputs": [
    {
     "data": {
      "text/plain": [
       "2659"
      ]
     },
     "execution_count": 15,
     "metadata": {},
     "output_type": "execute_result"
    }
   ],
   "source": [
    "len(arr)"
   ]
  },
  {
   "cell_type": "code",
   "execution_count": 32,
   "metadata": {},
   "outputs": [
    {
     "data": {
      "text/plain": [
       "[36005,\n",
       " 75393,\n",
       " 14216,\n",
       " 1176,\n",
       " 9015,\n",
       " 55283,\n",
       " 54021,\n",
       " 9197,\n",
       " 32199,\n",
       " 42844,\n",
       " 99257,\n",
       " 31192,\n",
       " 63513,\n",
       " 91515,\n",
       " 99887,\n",
       " 87870,\n",
       " 83435,\n",
       " 86081,\n",
       " 13621,\n",
       " 64689,\n",
       " 76608,\n",
       " 36423,\n",
       " 70929,\n",
       " 23682,\n",
       " 43745,\n",
       " 96771,\n",
       " 58948,\n",
       " 14361,\n",
       " 24324,\n",
       " 33495,\n",
       " 5470,\n",
       " 9302,\n",
       " 83955,\n",
       " 9146,\n",
       " 30237,\n",
       " 60889,\n",
       " 90892,\n",
       " 35585,\n",
       " 36264,\n",
       " 41386,\n",
       " 41971,\n",
       " 10081,\n",
       " 20929,\n",
       " 23876,\n",
       " 39841,\n",
       " 44881,\n",
       " 30445,\n",
       " 31824,\n",
       " 8135,\n",
       " 70161,\n",
       " 54619,\n",
       " 58402,\n",
       " 36963,\n",
       " 68272,\n",
       " 70014,\n",
       " 91666,\n",
       " 91737,\n",
       " 47894,\n",
       " 50512,\n",
       " 58149,\n",
       " 77870,\n",
       " 79444,\n",
       " 98779,\n",
       " 29014,\n",
       " 33406,\n",
       " 69570,\n",
       " 74038,\n",
       " 91753,\n",
       " 92983,\n",
       " 9247,\n",
       " 26376,\n",
       " 32783,\n",
       " 43194,\n",
       " 83186,\n",
       " 5514,\n",
       " 30635,\n",
       " 37538,\n",
       " 56211,\n",
       " 66567,\n",
       " 86391,\n",
       " 11800,\n",
       " 22717,\n",
       " 23400,\n",
       " 34816,\n",
       " 65217,\n",
       " 99686,\n",
       " 33904,\n",
       " 39077,\n",
       " 51759,\n",
       " 55386,\n",
       " 71825,\n",
       " 85149,\n",
       " 94460,\n",
       " 1220,\n",
       " 6601,\n",
       " 44479,\n",
       " 47175,\n",
       " 69017,\n",
       " 74306,\n",
       " 2083]"
      ]
     },
     "execution_count": 32,
     "metadata": {},
     "output_type": "execute_result"
    }
   ],
   "source": [
    "[a[1] for a in sorted(zip(np.squeeze(np.array(asdf)).tolist(), list(range(asdf.shape[1]))), key = lambda x: x[0], reverse = True)[:100]]"
   ]
  },
  {
   "cell_type": "code",
   "execution_count": 27,
   "metadata": {},
   "outputs": [
    {
     "name": "stdout",
     "output_type": "stream",
     "text": [
      "(0, 0)\n"
     ]
    }
   ],
   "source": [
    "for a in zip(np.squeeze(np.array(asdf)).tolist(), list(range(asdf.shape[1]))):\n",
    "    print(a)\n",
    "    break"
   ]
  },
  {
   "cell_type": "code",
   "execution_count": 25,
   "metadata": {},
   "outputs": [
    {
     "data": {
      "text/plain": [
       "array([ 0, 10,  0, ..., 10,  5, 28])"
      ]
     },
     "execution_count": 25,
     "metadata": {},
     "output_type": "execute_result"
    }
   ],
   "source": [
    "np.squeeze(np.array(asdf))"
   ]
  },
  {
   "cell_type": "code",
   "execution_count": null,
   "metadata": {},
   "outputs": [],
   "source": []
  }
 ],
 "metadata": {
  "kernelspec": {
   "display_name": "Python 3",
   "language": "python",
   "name": "python3"
  },
  "language_info": {
   "codemirror_mode": {
    "name": "ipython",
    "version": 3
   },
   "file_extension": ".py",
   "mimetype": "text/x-python",
   "name": "python",
   "nbconvert_exporter": "python",
   "pygments_lexer": "ipython3",
   "version": "3.7.5"
  }
 },
 "nbformat": 4,
 "nbformat_minor": 4
}
